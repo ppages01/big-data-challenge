{
  "nbformat": 4,
  "nbformat_minor": 0,
  "metadata": {
    "anaconda-cloud": {},
    "kernel_info": {
      "name": "python3"
    },
    "kernelspec": {
      "display_name": "Python [default]",
      "language": "python",
      "name": "python3"
    },
    "language_info": {
      "codemirror_mode": {
        "name": "ipython",
        "version": 3
      },
      "file_extension": ".py",
      "mimetype": "text/x-python",
      "name": "python",
      "nbconvert_exporter": "python",
      "pygments_lexer": "ipython3",
      "version": "3.6.5"
    },
    "nteract": {
      "version": "0.11.2"
    },
    "varInspector": {
      "cols": {
        "lenName": 16,
        "lenType": 16,
        "lenVar": 40
      },
      "kernels_config": {
        "python": {
          "delete_cmd_postfix": "",
          "delete_cmd_prefix": "del ",
          "library": "var_list.py",
          "varRefreshCmd": "print(var_dic_list())"
        },
        "r": {
          "delete_cmd_postfix": ") ",
          "delete_cmd_prefix": "rm(",
          "library": "var_list.r",
          "varRefreshCmd": "cat(var_dic_list()) "
        }
      },
      "types_to_exclude": [
        "module",
        "function",
        "builtin_function_or_method",
        "instance",
        "_Feature"
      ],
      "window_display": false
    },
    "colab": {
      "name": "spark_dates.ipynb",
      "provenance": [],
      "include_colab_link": true
    }
  },
  "cells": [
    {
      "cell_type": "markdown",
      "metadata": {
        "id": "view-in-github",
        "colab_type": "text"
      },
      "source": [
        "<a href=\"https://colab.research.google.com/github/ppages01/big-data-challenge/blob/master/spark_dates.ipynb\" target=\"_parent\"><img src=\"https://colab.research.google.com/assets/colab-badge.svg\" alt=\"Open In Colab\"/></a>"
      ]
    },
    {
      "cell_type": "code",
      "metadata": {
        "id": "7kufI1HuEzk5",
        "colab_type": "code",
        "colab": {}
      },
      "source": [
        "# Install Java, Spark, and Findspark\n",
        "!apt-get install openjdk-8-jdk-headless -qq > /dev/null\n",
        "!wget -q http://www-us.apache.org/dist/spark/spark-2.4.5/spark-2.4.5-bin-hadoop2.7.tgz\n",
        "!tar xf spark-2.4.5-bin-hadoop2.7.tgz\n",
        "!pip install -q findspark\n",
        "\n",
        "# Set Environment Variables\n",
        "import os\n",
        "os.environ[\"JAVA_HOME\"] = \"/usr/lib/jvm/java-8-openjdk-amd64\"\n",
        "os.environ[\"SPARK_HOME\"] = \"/content/spark-2.4.5-bin-hadoop2.7\"\n",
        "\n",
        "# Start a SparkSession\n",
        "import findspark\n",
        "findspark.init()"
      ],
      "execution_count": 4,
      "outputs": []
    },
    {
      "cell_type": "code",
      "metadata": {
        "id": "ADYQdkdUSAnn",
        "colab_type": "code",
        "colab": {}
      },
      "source": [
        "# Start Spark session\n",
        "from pyspark.sql import SparkSession\n",
        "spark = SparkSession.builder.appName(\"sparkDates\").getOrCreate()"
      ],
      "execution_count": 5,
      "outputs": []
    },
    {
      "cell_type": "code",
      "metadata": {
        "id": "6CdXs43NC-oE",
        "colab_type": "code",
        "colab": {
          "base_uri": "https://localhost:8080/",
          "height": 479
        },
        "outputId": "6900897e-764f-4839-d705-0b706c3f96c8"
      },
      "source": [
        "# Load in data\n",
        "from pyspark import SparkFiles\n",
        "url =\"https://s3.amazonaws.com/amazon-reviews-pds/tsv/amazon_reviews_us_Wireless_v1_00.tsv.gz\"\n",
        "spark.sparkContext.addFile(url)\n",
        "df = spark.read.csv(SparkFiles.get(\"amazon_reviews_us_Wireless_v1_00.tsv.gz\"), sep=\",\", header=True, inferSchema=True, timestampFormat=\"yyyy/MM/dd HH:mm:ss\")\n",
        "df.show()"
      ],
      "execution_count": 7,
      "outputs": [
        {
          "output_type": "stream",
          "text": [
            "+-----------------------------------------------------------------------------------------------------------------------------------------------------------------------------------------------+\n",
            "|marketplace\tcustomer_id\treview_id\tproduct_id\tproduct_parent\tproduct_title\tproduct_category\tstar_rating\thelpful_votes\ttotal_votes\tvine\tverified_purchase\treview_headline\treview_body\treview_date|\n",
            "+-----------------------------------------------------------------------------------------------------------------------------------------------------------------------------------------------+\n",
            "|                                                                                                                                                                           US\t16414143\tR3W4P...|\n",
            "|                                                                                                                                                                           US\t50800750\tR15V5...|\n",
            "|                                                                                                                                                                           US\t15184378\tRY8I4...|\n",
            "|                                                                                                                                                                           US\t10203548\tR18TL...|\n",
            "|                                                                                                                                                                           US\t488280\tR1NK26S...|\n",
            "|                                                                                                                                                                           US\t13334021\tR11LO...|\n",
            "|                                                                                                                                                                           US\t27520697\tR3ALQ...|\n",
            "|                                                                                                                                                                           US\t48086021\tR3MWL...|\n",
            "|                                                                                                                                                                           US\t12738196\tR2L15...|\n",
            "|                                                                                                                                                                           US\t15867807\tR1DJ8...|\n",
            "|                                                                                                                                                                           US\t1972249\tR3MRWN...|\n",
            "|                                                                                                                                                                           US\t10956619\tR1DS6...|\n",
            "|                                                                                                                                                                           US\t14805911\tRWJM5...|\n",
            "|                                                                                                                                                                           US\t15611116\tR1XTJ...|\n",
            "|                                                                                                                                                                           US\t39298603\tR2UZL...|\n",
            "|                                                                                                                                                                           US\t17552454\tR2EZX...|\n",
            "|                                                                                                                                                                           US\t12218556\tR26VY...|\n",
            "|                                                                                                                                                                           US\t21872923\tR2SSA...|\n",
            "|                                                                                                                                                                           US\t16264332\tR1G63...|\n",
            "|                                                                                                                                                                           US\t6042304\tR2DRG0...|\n",
            "+-----------------------------------------------------------------------------------------------------------------------------------------------------------------------------------------------+\n",
            "only showing top 20 rows\n",
            "\n"
          ],
          "name": "stdout"
        }
      ]
    },
    {
      "cell_type": "code",
      "metadata": {
        "id": "wGs8eT4MC-oQ",
        "colab_type": "code",
        "colab": {
          "base_uri": "https://localhost:8080/",
          "height": 119
        },
        "outputId": "81b031be-5455-447e-fef8-5ac75d59830c"
      },
      "source": [
        "# Show schema to confirm date type\n",
        "df.printSchema()"
      ],
      "execution_count": null,
      "outputs": [
        {
          "output_type": "stream",
          "text": [
            "root\n",
            " |-- station: string (nullable = true)\n",
            " |-- date: timestamp (nullable = true)\n",
            " |-- prcp: double (nullable = true)\n",
            " |-- tobs: integer (nullable = true)\n",
            "\n"
          ],
          "name": "stdout"
        }
      ]
    },
    {
      "cell_type": "code",
      "metadata": {
        "id": "qlpo4iHsC-oV",
        "colab_type": "code",
        "colab": {
          "base_uri": "https://localhost:8080/",
          "height": 459
        },
        "outputId": "79f2b032-1089-4796-b693-6f01d25d3c8c"
      },
      "source": [
        "# Import date time functions\n",
        "from pyspark.sql.functions import year\n",
        "\n",
        "# Show the year for the date column\n",
        "df.select(year(df[\"date\"])).show()"
      ],
      "execution_count": null,
      "outputs": [
        {
          "output_type": "stream",
          "text": [
            "+----------+\n",
            "|year(date)|\n",
            "+----------+\n",
            "|      2010|\n",
            "|      2010|\n",
            "|      2010|\n",
            "|      2010|\n",
            "|      2010|\n",
            "|      2010|\n",
            "|      2010|\n",
            "|      2010|\n",
            "|      2010|\n",
            "|      2010|\n",
            "|      2010|\n",
            "|      2010|\n",
            "|      2010|\n",
            "|      2010|\n",
            "|      2010|\n",
            "|      2010|\n",
            "|      2010|\n",
            "|      2010|\n",
            "|      2010|\n",
            "|      2010|\n",
            "+----------+\n",
            "only showing top 20 rows\n",
            "\n"
          ],
          "name": "stdout"
        }
      ]
    },
    {
      "cell_type": "code",
      "metadata": {
        "id": "es-JQnbkC-od",
        "colab_type": "code",
        "colab": {
          "base_uri": "https://localhost:8080/",
          "height": 459
        },
        "outputId": "99b7eaa7-665e-48cf-dc7b-94530a92c2f1"
      },
      "source": [
        "# Save the year as a new column\n",
        "df = df.withColumn(\"year\", year(df['date']))\n",
        "df.show()"
      ],
      "execution_count": null,
      "outputs": [
        {
          "output_type": "stream",
          "text": [
            "+-----------+-------------------+----+----+----+\n",
            "|    station|               date|prcp|tobs|year|\n",
            "+-----------+-------------------+----+----+----+\n",
            "|USC00519397|2010-01-01 00:00:00|0.08|  65|2010|\n",
            "|USC00519397|2010-01-02 00:00:00| 0.0|  63|2010|\n",
            "|USC00519397|2010-01-03 00:00:00| 0.0|  74|2010|\n",
            "|USC00519397|2010-01-04 00:00:00| 0.0|  76|2010|\n",
            "|USC00519397|2010-01-07 00:00:00|0.06|  70|2010|\n",
            "|USC00519397|2010-01-08 00:00:00| 0.0|  64|2010|\n",
            "|USC00519397|2010-01-09 00:00:00| 0.0|  68|2010|\n",
            "|USC00519397|2010-01-10 00:00:00| 0.0|  73|2010|\n",
            "|USC00519397|2010-01-11 00:00:00|0.01|  64|2010|\n",
            "|USC00519397|2010-01-12 00:00:00| 0.0|  61|2010|\n",
            "|USC00519397|2010-01-14 00:00:00| 0.0|  66|2010|\n",
            "|USC00519397|2010-01-15 00:00:00| 0.0|  65|2010|\n",
            "|USC00519397|2010-01-16 00:00:00| 0.0|  68|2010|\n",
            "|USC00519397|2010-01-17 00:00:00| 0.0|  64|2010|\n",
            "|USC00519397|2010-01-18 00:00:00| 0.0|  72|2010|\n",
            "|USC00519397|2010-01-19 00:00:00| 0.0|  66|2010|\n",
            "|USC00519397|2010-01-20 00:00:00| 0.0|  66|2010|\n",
            "|USC00519397|2010-01-21 00:00:00| 0.0|  69|2010|\n",
            "|USC00519397|2010-01-22 00:00:00| 0.0|  67|2010|\n",
            "|USC00519397|2010-01-23 00:00:00| 0.0|  67|2010|\n",
            "+-----------+-------------------+----+----+----+\n",
            "only showing top 20 rows\n",
            "\n"
          ],
          "name": "stdout"
        }
      ]
    },
    {
      "cell_type": "code",
      "metadata": {
        "id": "vUaT-8mCV6w0",
        "colab_type": "code",
        "colab": {
          "base_uri": "https://localhost:8080/",
          "height": 238
        },
        "outputId": "5a595db8-25eb-4756-f8c1-1b94151da374"
      },
      "source": [
        "# Find the average precipitation per year\n",
        "averages = df.groupBy(\"year\").avg()\n",
        "averages.orderBy(\"year\").select(\"year\", \"avg(prcp)\").show()"
      ],
      "execution_count": null,
      "outputs": [
        {
          "output_type": "stream",
          "text": [
            "+----+-------------------+\n",
            "|year|          avg(prcp)|\n",
            "+----+-------------------+\n",
            "|2010|0.13852293920179035|\n",
            "|2011| 0.1637348927875241|\n",
            "|2012| 0.1163805668016194|\n",
            "|2013|0.15554567502020986|\n",
            "|2014|0.17855953372189803|\n",
            "|2015|0.19919999999999985|\n",
            "|2016|0.17984533591106822|\n",
            "|2017|0.16592738752959774|\n",
            "+----+-------------------+\n",
            "\n"
          ],
          "name": "stdout"
        }
      ]
    },
    {
      "cell_type": "code",
      "metadata": {
        "id": "cS6QUGeSC-om",
        "colab_type": "code",
        "colab": {
          "base_uri": "https://localhost:8080/",
          "height": 459
        },
        "outputId": "6c2cf191-0527-467b-cc63-24896bef9818"
      },
      "source": [
        "from pyspark.sql.functions import month\n",
        "df.select(month(df['Date'])).show()"
      ],
      "execution_count": null,
      "outputs": [
        {
          "output_type": "stream",
          "text": [
            "+-----------+\n",
            "|month(Date)|\n",
            "+-----------+\n",
            "|          1|\n",
            "|          1|\n",
            "|          1|\n",
            "|          1|\n",
            "|          1|\n",
            "|          1|\n",
            "|          1|\n",
            "|          1|\n",
            "|          1|\n",
            "|          1|\n",
            "|          1|\n",
            "|          1|\n",
            "|          1|\n",
            "|          1|\n",
            "|          1|\n",
            "|          1|\n",
            "|          1|\n",
            "|          1|\n",
            "|          1|\n",
            "|          1|\n",
            "+-----------+\n",
            "only showing top 20 rows\n",
            "\n"
          ],
          "name": "stdout"
        }
      ]
    },
    {
      "cell_type": "code",
      "metadata": {
        "id": "CojLgFrpC-oq",
        "colab_type": "code",
        "colab": {
          "base_uri": "https://localhost:8080/",
          "height": 34
        },
        "outputId": "f1493535-b244-4f2a-b6a2-d5cff1f26670"
      },
      "source": [
        "df = df.withColumn(\"month\", month(df['date']))\n",
        "df.head()"
      ],
      "execution_count": null,
      "outputs": [
        {
          "output_type": "execute_result",
          "data": {
            "text/plain": [
              "Row(station='USC00519397', date=datetime.datetime(2010, 1, 1, 0, 0), prcp=0.08, tobs=65, year=2010, month=1)"
            ]
          },
          "metadata": {
            "tags": []
          },
          "execution_count": 9
        }
      ]
    },
    {
      "cell_type": "code",
      "metadata": {
        "id": "WFLxAjanC-ou",
        "colab_type": "code",
        "colab": {
          "base_uri": "https://localhost:8080/",
          "height": 306
        },
        "outputId": "fd494d6b-1e5b-4c69-9357-b22e55ebb534"
      },
      "source": [
        "maxes = df.groupBy(\"month\").max()\n",
        "maxes.orderBy(\"month\").select(\"month\", \"max(prcp)\").show()"
      ],
      "execution_count": null,
      "outputs": [
        {
          "output_type": "stream",
          "text": [
            "+-----+---------+\n",
            "|month|max(prcp)|\n",
            "+-----+---------+\n",
            "|    1|     8.81|\n",
            "|    2|     5.04|\n",
            "|    3|     6.38|\n",
            "|    4|     6.25|\n",
            "|    5|     4.07|\n",
            "|    6|     4.43|\n",
            "|    7|    11.53|\n",
            "|    8|     4.81|\n",
            "|    9|     6.83|\n",
            "|   10|     4.47|\n",
            "|   11|     8.06|\n",
            "|   12|     6.42|\n",
            "+-----+---------+\n",
            "\n"
          ],
          "name": "stdout"
        }
      ]
    },
    {
      "cell_type": "code",
      "metadata": {
        "id": "C6KRsF3GC-oz",
        "colab_type": "code",
        "colab": {
          "base_uri": "https://localhost:8080/",
          "height": 204
        },
        "outputId": "6e454eda-bd33-4931-b88d-c76e730fd7d1"
      },
      "source": [
        "# Import the summarized data to a pandas dataframe for plotting\n",
        "# Note: If your summarized data is still too big for your local memory then your notebook may crash\n",
        "\n",
        "pandas_df = maxes.orderBy(\"month\").select(\"month\", \"max(prcp)\").toPandas()\n",
        "pandas_df.head()"
      ],
      "execution_count": null,
      "outputs": [
        {
          "output_type": "execute_result",
          "data": {
            "text/html": [
              "<div>\n",
              "<style scoped>\n",
              "    .dataframe tbody tr th:only-of-type {\n",
              "        vertical-align: middle;\n",
              "    }\n",
              "\n",
              "    .dataframe tbody tr th {\n",
              "        vertical-align: top;\n",
              "    }\n",
              "\n",
              "    .dataframe thead th {\n",
              "        text-align: right;\n",
              "    }\n",
              "</style>\n",
              "<table border=\"1\" class=\"dataframe\">\n",
              "  <thead>\n",
              "    <tr style=\"text-align: right;\">\n",
              "      <th></th>\n",
              "      <th>month</th>\n",
              "      <th>max(prcp)</th>\n",
              "    </tr>\n",
              "  </thead>\n",
              "  <tbody>\n",
              "    <tr>\n",
              "      <th>0</th>\n",
              "      <td>1</td>\n",
              "      <td>8.81</td>\n",
              "    </tr>\n",
              "    <tr>\n",
              "      <th>1</th>\n",
              "      <td>2</td>\n",
              "      <td>5.04</td>\n",
              "    </tr>\n",
              "    <tr>\n",
              "      <th>2</th>\n",
              "      <td>3</td>\n",
              "      <td>6.38</td>\n",
              "    </tr>\n",
              "    <tr>\n",
              "      <th>3</th>\n",
              "      <td>4</td>\n",
              "      <td>6.25</td>\n",
              "    </tr>\n",
              "    <tr>\n",
              "      <th>4</th>\n",
              "      <td>5</td>\n",
              "      <td>4.07</td>\n",
              "    </tr>\n",
              "  </tbody>\n",
              "</table>\n",
              "</div>"
            ],
            "text/plain": [
              "   month  max(prcp)\n",
              "0      1       8.81\n",
              "1      2       5.04\n",
              "2      3       6.38\n",
              "3      4       6.25\n",
              "4      5       4.07"
            ]
          },
          "metadata": {
            "tags": []
          },
          "execution_count": 11
        }
      ]
    },
    {
      "cell_type": "code",
      "metadata": {
        "id": "CrkpfmoAC-o2",
        "colab_type": "code",
        "colab": {
          "base_uri": "https://localhost:8080/",
          "height": 301
        },
        "outputId": "9150e73e-074c-40f6-8dbe-71d391fbacd6"
      },
      "source": [
        "import matplotlib.pyplot as plt\n",
        "pandas_df.set_index(\"month\", inplace=True)\n",
        "pandas_df.plot.bar()"
      ],
      "execution_count": null,
      "outputs": [
        {
          "output_type": "execute_result",
          "data": {
            "text/plain": [
              "<matplotlib.axes._subplots.AxesSubplot at 0x7f62b18121d0>"
            ]
          },
          "metadata": {
            "tags": []
          },
          "execution_count": 12
        },
        {
          "output_type": "display_data",
          "data": {
            "image/png": "[encoded data removed]",
            "text/plain": [
              "<Figure size 432x288 with 1 Axes>"
            ]
          },
          "metadata": {
            "tags": [],
            "needs_background": "light"
          }
        }
      ]
    },
    {
      "cell_type": "code",
      "metadata": {
        "id": "0afADD07C-o9",
        "colab_type": "code",
        "colab": {}
      },
      "source": [
        ""
      ],
      "execution_count": null,
      "outputs": []
    }
  ]
}